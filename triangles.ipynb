{
 "cells": [
  {
   "cell_type": "code",
   "execution_count": 12,
   "id": "943dd6e0-cb10-41e7-9ea2-8f71cea415b6",
   "metadata": {},
   "outputs": [
    {
     "name": "stdin",
     "output_type": "stream",
     "text": [
      "enter the number of rows 10\n"
     ]
    },
    {
     "name": "stdout",
     "output_type": "stream",
     "text": [
      "\n",
      " This is the right triangle\n",
      "                  * \n",
      "                * * \n",
      "              * * * \n",
      "            * * * * \n",
      "          * * * * * \n",
      "        * * * * * * \n",
      "      * * * * * * * \n",
      "    * * * * * * * * \n",
      "  * * * * * * * * * \n",
      "* * * * * * * * * * \n",
      "\n",
      " This is the left triangle\n",
      "*\n",
      "**\n",
      "***\n",
      "****\n",
      "*****\n",
      "******\n",
      "*******\n",
      "********\n",
      "*********\n",
      "**********\n",
      "\n",
      " This is the pyramid\n",
      "         *\n",
      "        ***\n",
      "       *****\n",
      "      *******\n",
      "     *********\n",
      "    ***********\n",
      "   *************\n",
      "  ***************\n",
      " *****************\n",
      "*******************\n"
     ]
    }
   ],
   "source": [
    "def left_triangle(n):\n",
    "    for i in range(1, n+1):\n",
    "        for j in range (1, i+1):\n",
    "           print(\"*\",end=\"\")\n",
    "        print()\n",
    "\n",
    "def right_triangle(n):\n",
    "    for i in range(1, n+1):\n",
    "        for j in range(1, n-i+1):\n",
    "            print(\"  \", end=\"\")\n",
    "        for k in range(1, i+1):\n",
    "            print(\"* \", end=\"\")\n",
    "        print()\n",
    "\n",
    "def pyramid(n):\n",
    "    for i in range(1, n + 1):\n",
    "        for j in range(1, rows - i + 1):\n",
    "            print(\" \", end=\"\")  \n",
    "        for k in range(1, 2*i):\n",
    "            print(\"*\", end=\"\")\n",
    "        print()\n",
    "    \n",
    "rows= int(input(\"enter the number of rows\"))\n",
    "\n",
    "print(\"\\n This is the right triangle\")\n",
    "right_triangle(rows)\n",
    "\n",
    "print(\"\\n This is the left triangle\")\n",
    "left_triangle(rows)\n",
    "          \n",
    "print(\"\\n This is the pyramid\")\n",
    "pyramid(rows)\n"
   ]
  },
  {
   "cell_type": "code",
   "execution_count": null,
   "id": "541af763-2ca6-4804-9ab8-45a787f68422",
   "metadata": {},
   "outputs": [],
   "source": []
  }
 ],
 "metadata": {
  "kernelspec": {
   "display_name": "Python 3 (ipykernel)",
   "language": "python",
   "name": "python3"
  },
  "language_info": {
   "codemirror_mode": {
    "name": "ipython",
    "version": 3
   },
   "file_extension": ".py",
   "mimetype": "text/x-python",
   "name": "python",
   "nbconvert_exporter": "python",
   "pygments_lexer": "ipython3",
   "version": "3.12.4"
  }
 },
 "nbformat": 4,
 "nbformat_minor": 5
}
